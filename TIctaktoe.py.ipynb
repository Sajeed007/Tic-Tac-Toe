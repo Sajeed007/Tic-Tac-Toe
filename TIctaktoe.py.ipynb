{
 "cells": [
  {
   "cell_type": "code",
   "execution_count": 1,
   "id": "ed270c25",
   "metadata": {},
   "outputs": [],
   "source": [
    "board = [\" \"] * 9"
   ]
  },
  {
   "cell_type": "code",
   "execution_count": 2,
   "id": "b85d2bbf",
   "metadata": {},
   "outputs": [],
   "source": [
    "def draw_board (board):\n",
    "    row_1 = \"{}|{}|{}\".format(board[0],board[1],board[2])\n",
    "    row_2 = \"{}|{}|{}\".format(board[3],board[4],board[5])\n",
    "    row_3 = \"{}|{}|{}\".format(board[6],board[7],board[8])\n",
    "    print(row_1 + '\\n' + row_2 + '\\n' + row_3)"
   ]
  },
  {
   "cell_type": "code",
   "execution_count": 3,
   "id": "f6b0c097",
   "metadata": {},
   "outputs": [],
   "source": [
    "def user_move(board,user_type):\n",
    "    user_choice = int(input('chose your space between 1-9: '))-1\n",
    "    if board[user_choice] != \" \":\n",
    "        print('space is taken, try again!')\n",
    "        user_move(board,user_type)\n",
    "    else:\n",
    "        board[user_choice] = user_type\n",
    "        available_space.remove(user_choice)\n",
    "    "
   ]
  },
  {
   "cell_type": "code",
   "execution_count": 10,
   "id": "75b90194",
   "metadata": {},
   "outputs": [],
   "source": [
    "def computer_move(board,user_type):\n",
    "    computer_choice = random.choice(available_space)\n",
    "    board[computer_choice] = user_type\n",
    "    available_space.remove(computer_choice)\n",
    "    "
   ]
  },
  {
   "cell_type": "code",
   "execution_count": 11,
   "id": "88dfbe9b",
   "metadata": {},
   "outputs": [],
   "source": [
    "def check_win(board,x_o):\n",
    "    if board[0] == x_o and board[1] == x_o and board[2] == x_o or  board[3] == x_o and board[4] == x_o and board[5] == x_o or  board[6] == x_o and board[7] == x_o and board[8] == x_o or  board[0] == x_o and board[3] == x_o and board[6] == x_o or  board[1] == x_o and board[4] == x_o and board[7] == x_o or  board[2] == x_o and board[5] == x_o and board[8] == x_o or  board[0] == x_o and board[4] == x_o and board[8] == x_o or  board[2] == x_o and board[4] == x_o and board[6] == x_o:\n",
    "        play = False\n",
    "    else:\n",
    "        play = True\n",
    "    return play\n",
    "\n",
    "    \n"
   ]
  },
  {
   "cell_type": "code",
   "execution_count": 14,
   "id": "15c77278",
   "metadata": {},
   "outputs": [
    {
     "name": "stdout",
     "output_type": "stream",
     "text": [
      "would you like to play with computer or friend? (c or f)c\n",
      " | | \n",
      " | | \n",
      " | | \n",
      "chose your space between 1-9: 5\n",
      " | | \n",
      " |x| \n",
      " | | \n",
      " | |o\n",
      " |x| \n",
      " | | \n",
      "chose your space between 1-9: 7\n",
      " | |o\n",
      " |x| \n",
      "x| | \n",
      "o| |o\n",
      " |x| \n",
      "x| | \n",
      "chose your space between 1-9: 8\n",
      "o| |o\n",
      " |x| \n",
      "x|x| \n",
      "o|o|o\n",
      " |x| \n",
      "x|x| \n",
      "Got winner!\n"
     ]
    }
   ],
   "source": [
    "import random\n",
    "board = [\" \"] * 9\n",
    "available_space = [0,1,2,3,4,5,6,7,8]\n",
    "\n",
    "comp_or_friend = input('would you like to play with computer or friend? (c or f)')\n",
    "draw_board(board)\n",
    "play = True\n",
    "while play == True:\n",
    "    \n",
    "    \"\"\" \n",
    "    xuser_input = int(input('chose your space between 1-9: '))\n",
    "    xuser_input-=1\n",
    "    board[xuser_input] = \"x\"\n",
    "    draw_board(board)\n",
    "    \n",
    "    ouser_input = int(input('chose your space between 1-9: '))\n",
    "    ouser_input-=1\n",
    "    board[ouser_input] = \"o\"\n",
    "    draw_board(board)\n",
    "    \"\"\"\n",
    "    \n",
    "    user_move(board,'x')\n",
    "    play = check_win(board,'x')\n",
    "    if play == False:\n",
    "        continue\n",
    "    draw_board(board)\n",
    "    \n",
    "    if comp_or_friend == 'f':\n",
    "        user_move(board,'o')\n",
    "    elif comp_or_friend == 'c':\n",
    "        computer_move(board,'o')\n",
    "    play = check_win(board,'o')\n",
    "    draw_board(board)\n",
    "    \n",
    "print('Got winner!')\n",
    "   \n",
    "        "
   ]
  },
  {
   "cell_type": "code",
   "execution_count": null,
   "id": "6cad051a",
   "metadata": {},
   "outputs": [],
   "source": []
  },
  {
   "cell_type": "code",
   "execution_count": null,
   "id": "22386af1",
   "metadata": {},
   "outputs": [],
   "source": []
  }
 ],
 "metadata": {
  "kernelspec": {
   "display_name": "Python 3",
   "language": "python",
   "name": "python3"
  },
  "language_info": {
   "codemirror_mode": {
    "name": "ipython",
    "version": 3
   },
   "file_extension": ".py",
   "mimetype": "text/x-python",
   "name": "python",
   "nbconvert_exporter": "python",
   "pygments_lexer": "ipython3",
   "version": "3.8.8"
  }
 },
 "nbformat": 4,
 "nbformat_minor": 5
}
